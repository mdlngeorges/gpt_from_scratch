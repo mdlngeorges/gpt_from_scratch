{
 "cells": [
  {
   "cell_type": "markdown",
   "metadata": {},
   "source": [
    "# Background\n",
    "\n",
    "This is me following along and recreating Andrej Karpathy's excellent youtube lectures on implementing neural network from scratch :)\n",
    "\n",
    "## Micrograd - motivation\n",
    "- Micrograd will help us implement backpropation. \n",
    "- **Backpropagation** is one of the key building blocks of neural networks - the way I like to think about it is as a math formula that sends a lot of small modifications through your network weights to say _\"hey, this is what I just learned from my mistakes on this training data\"._ \n",
    "- Repeated backpropagation is one of the mechanisms that allows you to learn from large scale of data."
   ]
  },
  {
   "cell_type": "code",
   "execution_count": null,
   "metadata": {},
   "outputs": [],
   "source": []
  }
 ],
 "metadata": {
  "kernelspec": {
   "display_name": "gpt-from-scratch-9uZ25ry7-py3.10",
   "language": "python",
   "name": "python3"
  },
  "language_info": {
   "name": "python",
   "version": "3.10.7"
  }
 },
 "nbformat": 4,
 "nbformat_minor": 2
}
